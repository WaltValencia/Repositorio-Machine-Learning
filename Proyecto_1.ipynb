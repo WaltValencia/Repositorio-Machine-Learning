{
  "nbformat": 4,
  "nbformat_minor": 0,
  "metadata": {
    "colab": {
      "name": "Proyecto 1",
      "provenance": [],
      "collapsed_sections": []
    },
    "kernelspec": {
      "name": "python3",
      "display_name": "Python 3"
    },
    "language_info": {
      "name": "python"
    }
  },
  "cells": [
    {
      "cell_type": "markdown",
      "metadata": {
        "id": "QRLXfxWW5IgE"
      },
      "source": [
        "# Proyecto 1 - Avance en vacunación mundial"
      ]
    },
    {
      "cell_type": "markdown",
      "metadata": {
        "id": "ohjH93a16on8"
      },
      "source": [
        "**Integrantes: Walter Valencia Naranjo, Santiago Bautista, Lida Díaz**"
      ]
    },
    {
      "cell_type": "markdown",
      "metadata": {
        "id": "lc_E8mXP5nyJ"
      },
      "source": [
        "Esta base contiene información acerca del progreso en materia de vacunación contra el covid-19 para 182 países, la diferencia entre las personas con una sola dosis y completamente vacunadas (dos dosis).\n",
        "\n",
        "Las variables suministradas son 1. País, 2. Primera dosis administrada por cada 100 mil personas, 3. Personas completamente vacunada, 4. Porcentaje de población vacunada (1 dosis) y 5. Porcentaje de población completamente vacunada (2 dosis). "
      ]
    },
    {
      "cell_type": "markdown",
      "metadata": {
        "id": "3Zx23oXV68S-"
      },
      "source": [
        "_Se importan las librerías necesarias para el desarrollo de los distintos análisis:_"
      ]
    },
    {
      "cell_type": "code",
      "metadata": {
        "id": "DI06-UYtymac"
      },
      "source": [
        "#Importando el módulo\n",
        "import pandas as pd"
      ],
      "execution_count": 1,
      "outputs": []
    },
    {
      "cell_type": "code",
      "metadata": {
        "id": "A2SeAySg8864"
      },
      "source": [
        "#Importando numpy\n",
        "import numpy as np\n"
      ],
      "execution_count": 2,
      "outputs": []
    },
    {
      "cell_type": "markdown",
      "metadata": {
        "id": "Dd5hdOcu7Syd"
      },
      "source": [
        "_Luego de subida la base de datos a la nube, se incluye en el colab_"
      ]
    },
    {
      "cell_type": "code",
      "metadata": {
        "id": "UCfkblMX79DO"
      },
      "source": [
        "#Cargue la data\n",
        "datos_covid = pd.read_csv(\"/content/Worldwide Vaccine Data.csv\")"
      ],
      "execution_count": 3,
      "outputs": []
    },
    {
      "cell_type": "markdown",
      "metadata": {
        "id": "FR_rTsP37f-F"
      },
      "source": [
        "**A continuación se presenta la información estadística y relevante de la base de datos de la población vacunada mundialmente:**"
      ]
    },
    {
      "cell_type": "code",
      "metadata": {
        "colab": {
          "base_uri": "https://localhost:8080/",
          "height": 548
        },
        "id": "rzKk3cVh8cW-",
        "outputId": "bbca628d-7403-4583-ee09-41bbc501a8a1"
      },
      "source": [
        "#Información de la data \n",
        "datos_covid.head(15)"
      ],
      "execution_count": 4,
      "outputs": [
        {
          "output_type": "execute_result",
          "data": {
            "text/html": [
              "<div>\n",
              "<style scoped>\n",
              "    .dataframe tbody tr th:only-of-type {\n",
              "        vertical-align: middle;\n",
              "    }\n",
              "\n",
              "    .dataframe tbody tr th {\n",
              "        vertical-align: top;\n",
              "    }\n",
              "\n",
              "    .dataframe thead th {\n",
              "        text-align: right;\n",
              "    }\n",
              "</style>\n",
              "<table border=\"1\" class=\"dataframe\">\n",
              "  <thead>\n",
              "    <tr style=\"text-align: right;\">\n",
              "      <th></th>\n",
              "      <th>Country</th>\n",
              "      <th>Doses administered per 100 people</th>\n",
              "      <th>Total doses administered</th>\n",
              "      <th>% of population vaccinated</th>\n",
              "      <th>% of population fully vaccinated</th>\n",
              "    </tr>\n",
              "  </thead>\n",
              "  <tbody>\n",
              "    <tr>\n",
              "      <th>0</th>\n",
              "      <td>U.A.E.</td>\n",
              "      <td>140.0</td>\n",
              "      <td>13,684,429</td>\n",
              "      <td>NaN</td>\n",
              "      <td>NaN</td>\n",
              "    </tr>\n",
              "    <tr>\n",
              "      <th>1</th>\n",
              "      <td>Israel</td>\n",
              "      <td>117.0</td>\n",
              "      <td>10,618,819</td>\n",
              "      <td>60.0</td>\n",
              "      <td>57.0</td>\n",
              "    </tr>\n",
              "    <tr>\n",
              "      <th>2</th>\n",
              "      <td>Malta</td>\n",
              "      <td>115.0</td>\n",
              "      <td>576,256</td>\n",
              "      <td>67.0</td>\n",
              "      <td>50.0</td>\n",
              "    </tr>\n",
              "    <tr>\n",
              "      <th>3</th>\n",
              "      <td>Bahrain</td>\n",
              "      <td>114.0</td>\n",
              "      <td>1,876,554</td>\n",
              "      <td>62.0</td>\n",
              "      <td>52.0</td>\n",
              "    </tr>\n",
              "    <tr>\n",
              "      <th>4</th>\n",
              "      <td>Aruba</td>\n",
              "      <td>112.0</td>\n",
              "      <td>119,395</td>\n",
              "      <td>61.0</td>\n",
              "      <td>51.0</td>\n",
              "    </tr>\n",
              "    <tr>\n",
              "      <th>5</th>\n",
              "      <td>Mongolia</td>\n",
              "      <td>109.0</td>\n",
              "      <td>3,528,572</td>\n",
              "      <td>59.0</td>\n",
              "      <td>51.0</td>\n",
              "    </tr>\n",
              "    <tr>\n",
              "      <th>6</th>\n",
              "      <td>Chile</td>\n",
              "      <td>107.0</td>\n",
              "      <td>20,223,473</td>\n",
              "      <td>61.0</td>\n",
              "      <td>47.0</td>\n",
              "    </tr>\n",
              "    <tr>\n",
              "      <th>7</th>\n",
              "      <td>U.K.</td>\n",
              "      <td>105.0</td>\n",
              "      <td>70,253,625</td>\n",
              "      <td>61.0</td>\n",
              "      <td>44.0</td>\n",
              "    </tr>\n",
              "    <tr>\n",
              "      <th>8</th>\n",
              "      <td>Curaçao</td>\n",
              "      <td>102.0</td>\n",
              "      <td>160,585</td>\n",
              "      <td>55.0</td>\n",
              "      <td>47.0</td>\n",
              "    </tr>\n",
              "    <tr>\n",
              "      <th>9</th>\n",
              "      <td>Qatar</td>\n",
              "      <td>98.0</td>\n",
              "      <td>2,768,028</td>\n",
              "      <td>56.0</td>\n",
              "      <td>42.0</td>\n",
              "    </tr>\n",
              "    <tr>\n",
              "      <th>10</th>\n",
              "      <td>Hungary</td>\n",
              "      <td>96.0</td>\n",
              "      <td>9,424,351</td>\n",
              "      <td>54.0</td>\n",
              "      <td>42.0</td>\n",
              "    </tr>\n",
              "    <tr>\n",
              "      <th>11</th>\n",
              "      <td>Uruguay</td>\n",
              "      <td>93.0</td>\n",
              "      <td>3,224,002</td>\n",
              "      <td>60.0</td>\n",
              "      <td>33.0</td>\n",
              "    </tr>\n",
              "    <tr>\n",
              "      <th>12</th>\n",
              "      <td>United States</td>\n",
              "      <td>92.0</td>\n",
              "      <td>306,509,795</td>\n",
              "      <td>52.0</td>\n",
              "      <td>43.0</td>\n",
              "    </tr>\n",
              "    <tr>\n",
              "      <th>13</th>\n",
              "      <td>Maldives</td>\n",
              "      <td>92.0</td>\n",
              "      <td>489,415</td>\n",
              "      <td>59.0</td>\n",
              "      <td>33.0</td>\n",
              "    </tr>\n",
              "    <tr>\n",
              "      <th>14</th>\n",
              "      <td>Iceland</td>\n",
              "      <td>88.0</td>\n",
              "      <td>317,082</td>\n",
              "      <td>59.0</td>\n",
              "      <td>36.0</td>\n",
              "    </tr>\n",
              "  </tbody>\n",
              "</table>\n",
              "</div>"
            ],
            "text/plain": [
              "          Country  ...  % of population fully vaccinated\n",
              "0          U.A.E.  ...                               NaN\n",
              "1          Israel  ...                              57.0\n",
              "2           Malta  ...                              50.0\n",
              "3         Bahrain  ...                              52.0\n",
              "4           Aruba  ...                              51.0\n",
              "5        Mongolia  ...                              51.0\n",
              "6           Chile  ...                              47.0\n",
              "7            U.K.  ...                              44.0\n",
              "8         Curaçao  ...                              47.0\n",
              "9           Qatar  ...                              42.0\n",
              "10        Hungary  ...                              42.0\n",
              "11        Uruguay  ...                              33.0\n",
              "12  United States  ...                              43.0\n",
              "13       Maldives  ...                              33.0\n",
              "14        Iceland  ...                              36.0\n",
              "\n",
              "[15 rows x 5 columns]"
            ]
          },
          "metadata": {
            "tags": []
          },
          "execution_count": 4
        }
      ]
    },
    {
      "cell_type": "markdown",
      "metadata": {
        "id": "JsqHeSxS790W"
      },
      "source": [
        "_Analizando la estadística descriptiva:_"
      ]
    },
    {
      "cell_type": "code",
      "metadata": {
        "colab": {
          "base_uri": "https://localhost:8080/"
        },
        "id": "Ca1PSW1pNIjI",
        "outputId": "67be7bd4-9b2a-4b05-f03f-f2f756080985"
      },
      "source": [
        "#Promedio de %_segunda dosis\n",
        "datos_covid[\"% of population fully vaccinated\"].mean()"
      ],
      "execution_count": 5,
      "outputs": [
        {
          "output_type": "execute_result",
          "data": {
            "text/plain": [
              "11.69602649006622"
            ]
          },
          "metadata": {
            "tags": []
          },
          "execution_count": 5
        }
      ]
    },
    {
      "cell_type": "markdown",
      "metadata": {
        "id": "O-uRqKqC8F0-"
      },
      "source": [
        "A pesar de que el promedio de la población completamente vacunada, en los 182 países, sea de 11.6960 el dato máximo es de 57% (%_segunda_dosis), y la distancia entre ellos es muy amplia, por lo tanto, puede distorsionar el análisis."
      ]
    },
    {
      "cell_type": "markdown",
      "metadata": {
        "id": "f72exts79dXE"
      },
      "source": [
        "Para el tratamiendo de la data, se crea un diccionario renombrando las variaables de forma tal que sea más dinámica para el ejercicio: "
      ]
    },
    {
      "cell_type": "code",
      "metadata": {
        "colab": {
          "base_uri": "https://localhost:8080/",
          "height": 204
        },
        "id": "ilaOUl5iFdnV",
        "outputId": "a10308bb-82d0-461c-9f24-1a4ea8c4c79d"
      },
      "source": [
        "#Renombrando la variables\n",
        "datos_covid = datos_covid.rename(columns = {'Doses administered per 100 people': 'Dosisx100', '% of population vaccinated': '%_poblacion_vacunada', 'Country' : 'Pais', '% of population fully vaccinated' : '%_segunda_dosis', 'Total doses administered': 'Total_dosis_administradas'}, inplace = False)\n",
        "\n",
        "datos_covid.head()"
      ],
      "execution_count": 6,
      "outputs": [
        {
          "output_type": "execute_result",
          "data": {
            "text/html": [
              "<div>\n",
              "<style scoped>\n",
              "    .dataframe tbody tr th:only-of-type {\n",
              "        vertical-align: middle;\n",
              "    }\n",
              "\n",
              "    .dataframe tbody tr th {\n",
              "        vertical-align: top;\n",
              "    }\n",
              "\n",
              "    .dataframe thead th {\n",
              "        text-align: right;\n",
              "    }\n",
              "</style>\n",
              "<table border=\"1\" class=\"dataframe\">\n",
              "  <thead>\n",
              "    <tr style=\"text-align: right;\">\n",
              "      <th></th>\n",
              "      <th>Pais</th>\n",
              "      <th>Dosisx100</th>\n",
              "      <th>Total_dosis_administradas</th>\n",
              "      <th>%_poblacion_vacunada</th>\n",
              "      <th>%_segunda_dosis</th>\n",
              "    </tr>\n",
              "  </thead>\n",
              "  <tbody>\n",
              "    <tr>\n",
              "      <th>0</th>\n",
              "      <td>U.A.E.</td>\n",
              "      <td>140.0</td>\n",
              "      <td>13,684,429</td>\n",
              "      <td>NaN</td>\n",
              "      <td>NaN</td>\n",
              "    </tr>\n",
              "    <tr>\n",
              "      <th>1</th>\n",
              "      <td>Israel</td>\n",
              "      <td>117.0</td>\n",
              "      <td>10,618,819</td>\n",
              "      <td>60.0</td>\n",
              "      <td>57.0</td>\n",
              "    </tr>\n",
              "    <tr>\n",
              "      <th>2</th>\n",
              "      <td>Malta</td>\n",
              "      <td>115.0</td>\n",
              "      <td>576,256</td>\n",
              "      <td>67.0</td>\n",
              "      <td>50.0</td>\n",
              "    </tr>\n",
              "    <tr>\n",
              "      <th>3</th>\n",
              "      <td>Bahrain</td>\n",
              "      <td>114.0</td>\n",
              "      <td>1,876,554</td>\n",
              "      <td>62.0</td>\n",
              "      <td>52.0</td>\n",
              "    </tr>\n",
              "    <tr>\n",
              "      <th>4</th>\n",
              "      <td>Aruba</td>\n",
              "      <td>112.0</td>\n",
              "      <td>119,395</td>\n",
              "      <td>61.0</td>\n",
              "      <td>51.0</td>\n",
              "    </tr>\n",
              "  </tbody>\n",
              "</table>\n",
              "</div>"
            ],
            "text/plain": [
              "      Pais  Dosisx100  ... %_poblacion_vacunada  %_segunda_dosis\n",
              "0   U.A.E.      140.0  ...                  NaN              NaN\n",
              "1   Israel      117.0  ...                 60.0             57.0\n",
              "2    Malta      115.0  ...                 67.0             50.0\n",
              "3  Bahrain      114.0  ...                 62.0             52.0\n",
              "4    Aruba      112.0  ...                 61.0             51.0\n",
              "\n",
              "[5 rows x 5 columns]"
            ]
          },
          "metadata": {
            "tags": []
          },
          "execution_count": 6
        }
      ]
    },
    {
      "cell_type": "code",
      "metadata": {
        "colab": {
          "base_uri": "https://localhost:8080/",
          "height": 297
        },
        "id": "oa0nn_Mp8Qwb",
        "outputId": "f95069fd-c099-459e-d5d9-cf78f516bf85"
      },
      "source": [
        "#Datos generales de la base \n",
        "datos_covid.describe()"
      ],
      "execution_count": 7,
      "outputs": [
        {
          "output_type": "execute_result",
          "data": {
            "text/html": [
              "<div>\n",
              "<style scoped>\n",
              "    .dataframe tbody tr th:only-of-type {\n",
              "        vertical-align: middle;\n",
              "    }\n",
              "\n",
              "    .dataframe tbody tr th {\n",
              "        vertical-align: top;\n",
              "    }\n",
              "\n",
              "    .dataframe thead th {\n",
              "        text-align: right;\n",
              "    }\n",
              "</style>\n",
              "<table border=\"1\" class=\"dataframe\">\n",
              "  <thead>\n",
              "    <tr style=\"text-align: right;\">\n",
              "      <th></th>\n",
              "      <th>Dosisx100</th>\n",
              "      <th>%_poblacion_vacunada</th>\n",
              "      <th>%_segunda_dosis</th>\n",
              "    </tr>\n",
              "  </thead>\n",
              "  <tbody>\n",
              "    <tr>\n",
              "      <th>count</th>\n",
              "      <td>182.000000</td>\n",
              "      <td>173.000000</td>\n",
              "      <td>151.000000</td>\n",
              "    </tr>\n",
              "    <tr>\n",
              "      <th>mean</th>\n",
              "      <td>29.056044</td>\n",
              "      <td>18.572254</td>\n",
              "      <td>11.696026</td>\n",
              "    </tr>\n",
              "    <tr>\n",
              "      <th>std</th>\n",
              "      <td>32.249294</td>\n",
              "      <td>19.208923</td>\n",
              "      <td>13.913810</td>\n",
              "    </tr>\n",
              "    <tr>\n",
              "      <th>min</th>\n",
              "      <td>0.000000</td>\n",
              "      <td>0.000000</td>\n",
              "      <td>0.000000</td>\n",
              "    </tr>\n",
              "    <tr>\n",
              "      <th>25%</th>\n",
              "      <td>3.125000</td>\n",
              "      <td>2.800000</td>\n",
              "      <td>0.800000</td>\n",
              "    </tr>\n",
              "    <tr>\n",
              "      <th>50%</th>\n",
              "      <td>16.000000</td>\n",
              "      <td>11.000000</td>\n",
              "      <td>5.200000</td>\n",
              "    </tr>\n",
              "    <tr>\n",
              "      <th>75%</th>\n",
              "      <td>48.750000</td>\n",
              "      <td>30.000000</td>\n",
              "      <td>20.000000</td>\n",
              "    </tr>\n",
              "    <tr>\n",
              "      <th>max</th>\n",
              "      <td>140.000000</td>\n",
              "      <td>67.000000</td>\n",
              "      <td>57.000000</td>\n",
              "    </tr>\n",
              "  </tbody>\n",
              "</table>\n",
              "</div>"
            ],
            "text/plain": [
              "        Dosisx100  %_poblacion_vacunada  %_segunda_dosis\n",
              "count  182.000000            173.000000       151.000000\n",
              "mean    29.056044             18.572254        11.696026\n",
              "std     32.249294             19.208923        13.913810\n",
              "min      0.000000              0.000000         0.000000\n",
              "25%      3.125000              2.800000         0.800000\n",
              "50%     16.000000             11.000000         5.200000\n",
              "75%     48.750000             30.000000        20.000000\n",
              "max    140.000000             67.000000        57.000000"
            ]
          },
          "metadata": {
            "tags": []
          },
          "execution_count": 7
        }
      ]
    },
    {
      "cell_type": "code",
      "metadata": {
        "colab": {
          "base_uri": "https://localhost:8080/"
        },
        "id": "62vTQrTNLrFa",
        "outputId": "231a88d8-7c05-4851-8df2-f6d6e9e1b8a9"
      },
      "source": [
        "datos_covid.info()"
      ],
      "execution_count": 8,
      "outputs": [
        {
          "output_type": "stream",
          "text": [
            "<class 'pandas.core.frame.DataFrame'>\n",
            "RangeIndex: 182 entries, 0 to 181\n",
            "Data columns (total 5 columns):\n",
            " #   Column                     Non-Null Count  Dtype  \n",
            "---  ------                     --------------  -----  \n",
            " 0   Pais                       182 non-null    object \n",
            " 1   Dosisx100                  182 non-null    float64\n",
            " 2   Total_dosis_administradas  182 non-null    object \n",
            " 3   %_poblacion_vacunada       173 non-null    float64\n",
            " 4   %_segunda_dosis            151 non-null    float64\n",
            "dtypes: float64(3), object(2)\n",
            "memory usage: 7.2+ KB\n"
          ],
          "name": "stdout"
        }
      ]
    },
    {
      "cell_type": "markdown",
      "metadata": {
        "id": "gPW7Sw609-E0"
      },
      "source": [
        "Evidenciando los datos anteriores, se observa que la variable Total_dosis_administradas está siendo tomada como un objeto, por lo cual, se procede a convertirse a float64 para que sea tomada como un valor numérico: "
      ]
    },
    {
      "cell_type": "code",
      "metadata": {
        "colab": {
          "base_uri": "https://localhost:8080/"
        },
        "id": "ZNM-kA_WJzs5",
        "outputId": "6a5ed5b7-efb8-481f-8278-f8be94ff2c9d"
      },
      "source": [
        "#La vairables total_dosis_administradas está guardada como objeto\n",
        "datos_covid['Total_dosis_administradas'] \n"
      ],
      "execution_count": 9,
      "outputs": [
        {
          "output_type": "execute_result",
          "data": {
            "text/plain": [
              "0      13,684,429\n",
              "1      10,618,819\n",
              "2         576,256\n",
              "3       1,876,554\n",
              "4         119,395\n",
              "          ...    \n",
              "177        26,624\n",
              "178        11,889\n",
              "179         7,881\n",
              "180        31,871\n",
              "181         5,324\n",
              "Name: Total_dosis_administradas, Length: 182, dtype: object"
            ]
          },
          "metadata": {
            "tags": []
          },
          "execution_count": 9
        }
      ]
    },
    {
      "cell_type": "code",
      "metadata": {
        "id": "dD18g-qrLEMt"
      },
      "source": [
        "#Vamos a cambiar la variable total_dosis_administradas de objeto a float64\n",
        "\n",
        "datos_covid['Total_dosis_administradas'] = pd.to_numeric(datos_covid['Total_dosis_administradas'], errors = 'coerce')"
      ],
      "execution_count": 12,
      "outputs": []
    },
    {
      "cell_type": "code",
      "metadata": {
        "colab": {
          "base_uri": "https://localhost:8080/"
        },
        "id": "X8Qq0Im-SaNU",
        "outputId": "a802e133-5c7a-40fa-8acb-6b4f459ba79d"
      },
      "source": [
        "datos_covid.info()"
      ],
      "execution_count": 17,
      "outputs": [
        {
          "output_type": "stream",
          "text": [
            "<class 'pandas.core.frame.DataFrame'>\n",
            "RangeIndex: 182 entries, 0 to 181\n",
            "Data columns (total 5 columns):\n",
            " #   Column                     Non-Null Count  Dtype  \n",
            "---  ------                     --------------  -----  \n",
            " 0   Pais                       182 non-null    object \n",
            " 1   Dosisx100                  182 non-null    float64\n",
            " 2   Total_dosis_administradas  1 non-null      float64\n",
            " 3   %_poblacion_vacunada       173 non-null    float64\n",
            " 4   %_segunda_dosis            151 non-null    float64\n",
            "dtypes: float64(4), object(1)\n",
            "memory usage: 7.2+ KB\n"
          ],
          "name": "stdout"
        }
      ]
    },
    {
      "cell_type": "markdown",
      "metadata": {
        "id": "uKhTJXxs-UC3"
      },
      "source": [
        "Se evidencia que al final, la variable toma una forma de floar64, por lo cual ya es reconocida como un valor numérico."
      ]
    },
    {
      "cell_type": "code",
      "metadata": {
        "colab": {
          "base_uri": "https://localhost:8080/",
          "height": 514
        },
        "id": "nV_Ggk-fTaPH",
        "outputId": "756f953e-4ed5-41e2-8bb5-63a73084b0f4"
      },
      "source": [
        "datos_covid.head(15)"
      ],
      "execution_count": 18,
      "outputs": [
        {
          "output_type": "execute_result",
          "data": {
            "text/html": [
              "<div>\n",
              "<style scoped>\n",
              "    .dataframe tbody tr th:only-of-type {\n",
              "        vertical-align: middle;\n",
              "    }\n",
              "\n",
              "    .dataframe tbody tr th {\n",
              "        vertical-align: top;\n",
              "    }\n",
              "\n",
              "    .dataframe thead th {\n",
              "        text-align: right;\n",
              "    }\n",
              "</style>\n",
              "<table border=\"1\" class=\"dataframe\">\n",
              "  <thead>\n",
              "    <tr style=\"text-align: right;\">\n",
              "      <th></th>\n",
              "      <th>Pais</th>\n",
              "      <th>Dosisx100</th>\n",
              "      <th>Total_dosis_administradas</th>\n",
              "      <th>%_poblacion_vacunada</th>\n",
              "      <th>%_segunda_dosis</th>\n",
              "    </tr>\n",
              "  </thead>\n",
              "  <tbody>\n",
              "    <tr>\n",
              "      <th>0</th>\n",
              "      <td>U.A.E.</td>\n",
              "      <td>140.0</td>\n",
              "      <td>NaN</td>\n",
              "      <td>NaN</td>\n",
              "      <td>NaN</td>\n",
              "    </tr>\n",
              "    <tr>\n",
              "      <th>1</th>\n",
              "      <td>Israel</td>\n",
              "      <td>117.0</td>\n",
              "      <td>NaN</td>\n",
              "      <td>60.0</td>\n",
              "      <td>57.0</td>\n",
              "    </tr>\n",
              "    <tr>\n",
              "      <th>2</th>\n",
              "      <td>Malta</td>\n",
              "      <td>115.0</td>\n",
              "      <td>NaN</td>\n",
              "      <td>67.0</td>\n",
              "      <td>50.0</td>\n",
              "    </tr>\n",
              "    <tr>\n",
              "      <th>3</th>\n",
              "      <td>Bahrain</td>\n",
              "      <td>114.0</td>\n",
              "      <td>NaN</td>\n",
              "      <td>62.0</td>\n",
              "      <td>52.0</td>\n",
              "    </tr>\n",
              "    <tr>\n",
              "      <th>4</th>\n",
              "      <td>Aruba</td>\n",
              "      <td>112.0</td>\n",
              "      <td>NaN</td>\n",
              "      <td>61.0</td>\n",
              "      <td>51.0</td>\n",
              "    </tr>\n",
              "    <tr>\n",
              "      <th>5</th>\n",
              "      <td>Mongolia</td>\n",
              "      <td>109.0</td>\n",
              "      <td>NaN</td>\n",
              "      <td>59.0</td>\n",
              "      <td>51.0</td>\n",
              "    </tr>\n",
              "    <tr>\n",
              "      <th>6</th>\n",
              "      <td>Chile</td>\n",
              "      <td>107.0</td>\n",
              "      <td>NaN</td>\n",
              "      <td>61.0</td>\n",
              "      <td>47.0</td>\n",
              "    </tr>\n",
              "    <tr>\n",
              "      <th>7</th>\n",
              "      <td>U.K.</td>\n",
              "      <td>105.0</td>\n",
              "      <td>NaN</td>\n",
              "      <td>61.0</td>\n",
              "      <td>44.0</td>\n",
              "    </tr>\n",
              "    <tr>\n",
              "      <th>8</th>\n",
              "      <td>Curaçao</td>\n",
              "      <td>102.0</td>\n",
              "      <td>NaN</td>\n",
              "      <td>55.0</td>\n",
              "      <td>47.0</td>\n",
              "    </tr>\n",
              "    <tr>\n",
              "      <th>9</th>\n",
              "      <td>Qatar</td>\n",
              "      <td>98.0</td>\n",
              "      <td>NaN</td>\n",
              "      <td>56.0</td>\n",
              "      <td>42.0</td>\n",
              "    </tr>\n",
              "    <tr>\n",
              "      <th>10</th>\n",
              "      <td>Hungary</td>\n",
              "      <td>96.0</td>\n",
              "      <td>NaN</td>\n",
              "      <td>54.0</td>\n",
              "      <td>42.0</td>\n",
              "    </tr>\n",
              "    <tr>\n",
              "      <th>11</th>\n",
              "      <td>Uruguay</td>\n",
              "      <td>93.0</td>\n",
              "      <td>NaN</td>\n",
              "      <td>60.0</td>\n",
              "      <td>33.0</td>\n",
              "    </tr>\n",
              "    <tr>\n",
              "      <th>12</th>\n",
              "      <td>United States</td>\n",
              "      <td>92.0</td>\n",
              "      <td>NaN</td>\n",
              "      <td>52.0</td>\n",
              "      <td>43.0</td>\n",
              "    </tr>\n",
              "    <tr>\n",
              "      <th>13</th>\n",
              "      <td>Maldives</td>\n",
              "      <td>92.0</td>\n",
              "      <td>NaN</td>\n",
              "      <td>59.0</td>\n",
              "      <td>33.0</td>\n",
              "    </tr>\n",
              "    <tr>\n",
              "      <th>14</th>\n",
              "      <td>Iceland</td>\n",
              "      <td>88.0</td>\n",
              "      <td>NaN</td>\n",
              "      <td>59.0</td>\n",
              "      <td>36.0</td>\n",
              "    </tr>\n",
              "  </tbody>\n",
              "</table>\n",
              "</div>"
            ],
            "text/plain": [
              "             Pais  Dosisx100  ...  %_poblacion_vacunada  %_segunda_dosis\n",
              "0          U.A.E.      140.0  ...                   NaN              NaN\n",
              "1          Israel      117.0  ...                  60.0             57.0\n",
              "2           Malta      115.0  ...                  67.0             50.0\n",
              "3         Bahrain      114.0  ...                  62.0             52.0\n",
              "4           Aruba      112.0  ...                  61.0             51.0\n",
              "5        Mongolia      109.0  ...                  59.0             51.0\n",
              "6           Chile      107.0  ...                  61.0             47.0\n",
              "7            U.K.      105.0  ...                  61.0             44.0\n",
              "8         Curaçao      102.0  ...                  55.0             47.0\n",
              "9           Qatar       98.0  ...                  56.0             42.0\n",
              "10        Hungary       96.0  ...                  54.0             42.0\n",
              "11        Uruguay       93.0  ...                  60.0             33.0\n",
              "12  United States       92.0  ...                  52.0             43.0\n",
              "13       Maldives       92.0  ...                  59.0             33.0\n",
              "14        Iceland       88.0  ...                  59.0             36.0\n",
              "\n",
              "[15 rows x 5 columns]"
            ]
          },
          "metadata": {
            "tags": []
          },
          "execution_count": 18
        }
      ]
    },
    {
      "cell_type": "code",
      "metadata": {
        "colab": {
          "base_uri": "https://localhost:8080/"
        },
        "id": "MJMRHZMCTGG-",
        "outputId": "2366321f-a8d4-4897-cb96-e9e065fb0ef8"
      },
      "source": [
        "# Sumatoria de las dosis administradas\n",
        "\n",
        "datos_covid.value_counts(\"Total_dosis_administradas\")"
      ],
      "execution_count": 19,
      "outputs": [
        {
          "output_type": "execute_result",
          "data": {
            "text/plain": [
              "Total_dosis_administradas\n",
              "860.0    1\n",
              "dtype: int64"
            ]
          },
          "metadata": {
            "tags": []
          },
          "execution_count": 19
        }
      ]
    },
    {
      "cell_type": "markdown",
      "metadata": {
        "id": "Or-1npkp_W7H"
      },
      "source": [
        "**Observando que la base de datos es muy grande, y difícil de presentar en espacio gráfico, se realiza un mapa de calor para visibilizar mejor la información**"
      ]
    },
    {
      "cell_type": "code",
      "metadata": {
        "colab": {
          "base_uri": "https://localhost:8080/",
          "height": 419
        },
        "id": "s-H5Z9QaWfIV",
        "outputId": "2353e543-e21a-41d5-cd6b-f71c1e07f875"
      },
      "source": [
        "datos_covid"
      ],
      "execution_count": 20,
      "outputs": [
        {
          "output_type": "execute_result",
          "data": {
            "text/html": [
              "<div>\n",
              "<style scoped>\n",
              "    .dataframe tbody tr th:only-of-type {\n",
              "        vertical-align: middle;\n",
              "    }\n",
              "\n",
              "    .dataframe tbody tr th {\n",
              "        vertical-align: top;\n",
              "    }\n",
              "\n",
              "    .dataframe thead th {\n",
              "        text-align: right;\n",
              "    }\n",
              "</style>\n",
              "<table border=\"1\" class=\"dataframe\">\n",
              "  <thead>\n",
              "    <tr style=\"text-align: right;\">\n",
              "      <th></th>\n",
              "      <th>Pais</th>\n",
              "      <th>Dosisx100</th>\n",
              "      <th>Total_dosis_administradas</th>\n",
              "      <th>%_poblacion_vacunada</th>\n",
              "      <th>%_segunda_dosis</th>\n",
              "    </tr>\n",
              "  </thead>\n",
              "  <tbody>\n",
              "    <tr>\n",
              "      <th>0</th>\n",
              "      <td>U.A.E.</td>\n",
              "      <td>140.0</td>\n",
              "      <td>NaN</td>\n",
              "      <td>NaN</td>\n",
              "      <td>NaN</td>\n",
              "    </tr>\n",
              "    <tr>\n",
              "      <th>1</th>\n",
              "      <td>Israel</td>\n",
              "      <td>117.0</td>\n",
              "      <td>NaN</td>\n",
              "      <td>60.0</td>\n",
              "      <td>57.0</td>\n",
              "    </tr>\n",
              "    <tr>\n",
              "      <th>2</th>\n",
              "      <td>Malta</td>\n",
              "      <td>115.0</td>\n",
              "      <td>NaN</td>\n",
              "      <td>67.0</td>\n",
              "      <td>50.0</td>\n",
              "    </tr>\n",
              "    <tr>\n",
              "      <th>3</th>\n",
              "      <td>Bahrain</td>\n",
              "      <td>114.0</td>\n",
              "      <td>NaN</td>\n",
              "      <td>62.0</td>\n",
              "      <td>52.0</td>\n",
              "    </tr>\n",
              "    <tr>\n",
              "      <th>4</th>\n",
              "      <td>Aruba</td>\n",
              "      <td>112.0</td>\n",
              "      <td>NaN</td>\n",
              "      <td>61.0</td>\n",
              "      <td>51.0</td>\n",
              "    </tr>\n",
              "    <tr>\n",
              "      <th>...</th>\n",
              "      <td>...</td>\n",
              "      <td>...</td>\n",
              "      <td>...</td>\n",
              "      <td>...</td>\n",
              "      <td>...</td>\n",
              "    </tr>\n",
              "    <tr>\n",
              "      <th>177</th>\n",
              "      <td>Benin</td>\n",
              "      <td>0.2</td>\n",
              "      <td>NaN</td>\n",
              "      <td>0.2</td>\n",
              "      <td>0.0</td>\n",
              "    </tr>\n",
              "    <tr>\n",
              "      <th>178</th>\n",
              "      <td>South Sudan</td>\n",
              "      <td>0.1</td>\n",
              "      <td>NaN</td>\n",
              "      <td>0.1</td>\n",
              "      <td>NaN</td>\n",
              "    </tr>\n",
              "    <tr>\n",
              "      <th>179</th>\n",
              "      <td>Burkina Faso</td>\n",
              "      <td>0.0</td>\n",
              "      <td>NaN</td>\n",
              "      <td>0.0</td>\n",
              "      <td>NaN</td>\n",
              "    </tr>\n",
              "    <tr>\n",
              "      <th>180</th>\n",
              "      <td>Congo</td>\n",
              "      <td>0.0</td>\n",
              "      <td>NaN</td>\n",
              "      <td>0.0</td>\n",
              "      <td>0.0</td>\n",
              "    </tr>\n",
              "    <tr>\n",
              "      <th>181</th>\n",
              "      <td>Chad</td>\n",
              "      <td>0.0</td>\n",
              "      <td>NaN</td>\n",
              "      <td>0.0</td>\n",
              "      <td>NaN</td>\n",
              "    </tr>\n",
              "  </tbody>\n",
              "</table>\n",
              "<p>182 rows × 5 columns</p>\n",
              "</div>"
            ],
            "text/plain": [
              "             Pais  Dosisx100  ...  %_poblacion_vacunada  %_segunda_dosis\n",
              "0          U.A.E.      140.0  ...                   NaN              NaN\n",
              "1          Israel      117.0  ...                  60.0             57.0\n",
              "2           Malta      115.0  ...                  67.0             50.0\n",
              "3         Bahrain      114.0  ...                  62.0             52.0\n",
              "4           Aruba      112.0  ...                  61.0             51.0\n",
              "..            ...        ...  ...                   ...              ...\n",
              "177         Benin        0.2  ...                   0.2              0.0\n",
              "178   South Sudan        0.1  ...                   0.1              NaN\n",
              "179  Burkina Faso        0.0  ...                   0.0              NaN\n",
              "180         Congo        0.0  ...                   0.0              0.0\n",
              "181          Chad        0.0  ...                   0.0              NaN\n",
              "\n",
              "[182 rows x 5 columns]"
            ]
          },
          "metadata": {
            "tags": []
          },
          "execution_count": 20
        }
      ]
    },
    {
      "cell_type": "code",
      "metadata": {
        "colab": {
          "base_uri": "https://localhost:8080/"
        },
        "id": "QXHW4NLKcPqx",
        "outputId": "19a31954-e010-43ec-a549-8016f9bdd547"
      },
      "source": [
        "!pip install pycountry #Este comadno se utilza con el fin de obtener un paquete que presente la información de un mapa."
      ],
      "execution_count": 21,
      "outputs": [
        {
          "output_type": "stream",
          "text": [
            "Collecting pycountry\n",
            "\u001b[?25l  Downloading https://files.pythonhosted.org/packages/76/73/6f1a412f14f68c273feea29a6ea9b9f1e268177d32e0e69ad6790d306312/pycountry-20.7.3.tar.gz (10.1MB)\n",
            "\u001b[K     |████████████████████████████████| 10.1MB 30.1MB/s \n",
            "\u001b[?25hBuilding wheels for collected packages: pycountry\n",
            "  Building wheel for pycountry (setup.py) ... \u001b[?25l\u001b[?25hdone\n",
            "  Created wheel for pycountry: filename=pycountry-20.7.3-py2.py3-none-any.whl size=10746883 sha256=fd221faa3c487f1f3b3d983e2c36bfdf0f92a714e561c8049e2ac41c70fed04b\n",
            "  Stored in directory: /root/.cache/pip/wheels/33/4e/a6/be297e6b83567e537bed9df4a93f8590ec01c1acfbcd405348\n",
            "Successfully built pycountry\n",
            "Installing collected packages: pycountry\n",
            "Successfully installed pycountry-20.7.3\n"
          ],
          "name": "stdout"
        }
      ]
    },
    {
      "cell_type": "code",
      "metadata": {
        "colab": {
          "base_uri": "https://localhost:8080/"
        },
        "id": "k9j68NfDcY2J",
        "outputId": "2cdad72c-0f3d-4269-dc7e-80bcc283bc88"
      },
      "source": [
        "import pycountry #Se realiza la importación del paquete del mapa\n",
        "def get_alpha_3(location):\n",
        "  try:\n",
        "    return pycountry.countries.get(name=location).alpha_3\n",
        "  except:\n",
        "    return None #Este comando se realiza con el fin de encontrar paises que no presentan datos y darles un valor de 0\n",
        "datos_covid['Code'] = datos_covid['Pais'].apply(lambda x: get_alpha_3(x))\n",
        "print (datos_covid.head(6))"
      ],
      "execution_count": 22,
      "outputs": [
        {
          "output_type": "stream",
          "text": [
            "       Pais  Dosisx100  ...  %_segunda_dosis  Code\n",
            "0    U.A.E.      140.0  ...              NaN  None\n",
            "1    Israel      117.0  ...             57.0   ISR\n",
            "2     Malta      115.0  ...             50.0   MLT\n",
            "3   Bahrain      114.0  ...             52.0   BHR\n",
            "4     Aruba      112.0  ...             51.0   ABW\n",
            "5  Mongolia      109.0  ...             51.0   MNG\n",
            "\n",
            "[6 rows x 6 columns]\n"
          ],
          "name": "stdout"
        }
      ]
    },
    {
      "cell_type": "code",
      "metadata": {
        "id": "BsxVS7yId66l"
      },
      "source": [
        "import plotly.express as px"
      ],
      "execution_count": 23,
      "outputs": []
    },
    {
      "cell_type": "code",
      "metadata": {
        "colab": {
          "base_uri": "https://localhost:8080/",
          "height": 542
        },
        "id": "bBxKG_enfJ8g",
        "outputId": "09a3ef3d-f39f-4749-9394-5da99143bd9c"
      },
      "source": [
        "#Mapa de % de Vacunación por paises.\n",
        "fig = px.choropleth(datos_covid,locations='Code',\n",
        "                    color='%_poblacion_vacunada',hover_name='Pais',\n",
        "                    color_continuous_scale=px.colors.sequential.Plasma)\n",
        "fig.show()"
      ],
      "execution_count": 24,
      "outputs": [
        {
          "output_type": "display_data",
          "data": {
            "text/html": [
              "<html>\n",
              "<head><meta charset=\"utf-8\" /></head>\n",
              "<body>\n",
              "    <div>\n",
              "            <script src=\"https://cdnjs.cloudflare.com/ajax/libs/mathjax/2.7.5/MathJax.js?config=TeX-AMS-MML_SVG\"></script><script type=\"text/javascript\">if (window.MathJax) {MathJax.Hub.Config({SVG: {font: \"STIX-Web\"}});}</script>\n",
              "                <script type=\"text/javascript\">window.PlotlyConfig = {MathJaxConfig: 'local'};</script>\n",
              "        <script src=\"https://cdn.plot.ly/plotly-latest.min.js\"></script>    \n",
              "            <div id=\"6c112646-4d36-49d3-b649-b702b97f5290\" class=\"plotly-graph-div\" style=\"height:525px; width:100%;\"></div>\n",
              "            <script type=\"text/javascript\">\n",
              "                \n",
              "                    window.PLOTLYENV=window.PLOTLYENV || {};\n",
              "                    \n",
              "                if (document.getElementById(\"6c112646-4d36-49d3-b649-b702b97f5290\")) {\n",
              "                    Plotly.newPlot(\n",
              "                        '6c112646-4d36-49d3-b649-b702b97f5290',\n",
              "                        [{\"coloraxis\": \"coloraxis\", \"geo\": \"geo\", \"hoverlabel\": {\"namelength\": 0}, \"hovertemplate\": \"<b>%{hovertext}</b><br><br>Code=%{location}<br>%_poblacion_vacunada=%{z}\", \"hovertext\": [\"U.A.E.\", \"Israel\", \"Malta\", \"Bahrain\", \"Aruba\", \"Mongolia\", \"Chile\", \"U.K.\", \"Cura\\u00e7ao\", \"Qatar\", \"Hungary\", \"Uruguay\", \"United States\", \"Maldives\", \"Iceland\", \"Singapore\", \"Canada\", \"Belgium\", \"Germany\", \"Serbia\", \"Denmark\", \"Lithuania\", \"Spain\", \"Italy\", \"Luxembourg\", \"Austria\", \"Switzerland\", \"Netherlands\", \"Portugal\", \"France\", \"Bhutan\", \"Poland\", \"Greece\", \"Slovenia\", \"Finland\", \"Mainland China\", \"Norway\", \"Estonia\", \"Czech Republic\", \"Sweden\", \"Cyprus\", \"Dominican Rep.\", \"Slovakia\", \"Barbados\", \"Croatia\", \"Latvia\", \"Ireland\", \"Saudi Arabia\", \"Morocco\", \"Romania\", \"Kuwait\", \"Montenegro\", \"French Polynesia\", \"Turkey\", \"Hong Kong\", \"Costa Rica\", \"Guyana\", \"Macau\", \"Brazil\", \"Mauritius\", \"Argentina\", \"El Salvador\", \"New Caledonia\", \"Cambodia\", \"Albania\", \"Tonga\", \"Mexico\", \"Cuba\", \"South Korea\", \"Panama\", \"Saint Lucia\", \"Azerbaijan\", \"Fiji\", \"Jordan\", \"Colombia\", \"Grenada\", \"Bulgaria\", \"Russia\", \"Australia\", \"North Macedonia\", \"Saint Vincent and the Grenadines\", \"Belize\", \"Kazakhstan\", \"Moldova\", \"Samoa\", \"Suriname\", \"India\", \"Equatorial Guinea\", \"Japan\", \"Bolivia\", \"Ecuador\", \"Bahamas\", \"New Zealand\", \"Peru\", \"Laos\", \"Brunei\", \"Lebanon\", \"West Bank & Gaza\", \"Malaysia\", \"Sri Lanka\", \"Indonesia\", \"Trinidad and Tobago\", \"S\\u00e3o Tom\\u00e9 and Pr\\u00edncipe\", \"Tunisia\", \"Nepal\", \"Comoros\", \"Belarus\", \"Thailand\", \"Zimbabwe\", \"Timor-Leste\", \"Cape Verde\", \"Bosnia and Herzegovina\", \"Georgia\", \"Botswana\", \"Uzbekistan\", \"Bangladesh\", \"Jamaica\", \"Oman\", \"Paraguay\", \"Philippines\", \"Algeria\", \"Myanmar\", \"Iran\", \"Libya\", \"Honduras\", \"Pakistan\", \"Togo\", \"Ghana\", \"Guatemala\", \"Namibia\", \"Angola\", \"Ukraine\", \"Taiwan\", \"Senegal\", \"Egypt\", \"Rwanda\", \"Eswatini\", \"Guinea\", \"South Africa\", \"Venezuela\", \"Ivory Coast\", \"Nicaragua\", \"Solomon Islands\", \"Djibouti\", \"Kyrgyzstan\", \"Kenya\", \"Malawi\", \"Gambia\", \"Lesotho\", \"Ethiopia\", \"Uganda\", \"Afghanistan\", \"Armenia\", \"Iraq\", \"Gabon\", \"Vietnam\", \"Mozambique\", \"Liberia\", \"Sierra Leone\", \"Sudan\", \"Nigeria\", \"Republic of the Congo\", \"Tajikistan\", \"Mauritania\", \"Guinea-Bissau\", \"Somalia\", \"Zambia\", \"Mali\", \"Niger\", \"Yemen\", \"Turkmenistan\", \"Central African Republic\", \"Papua New Guinea\", \"Syria\", \"Madagascar\", \"Cameroon\", \"Vanuatu\", \"Benin\", \"South Sudan\", \"Burkina Faso\", \"Congo\", \"Chad\"], \"locations\": [null, \"ISR\", \"MLT\", \"BHR\", \"ABW\", \"MNG\", \"CHL\", null, \"CUW\", \"QAT\", \"HUN\", \"URY\", \"USA\", \"MDV\", \"ISL\", \"SGP\", \"CAN\", \"BEL\", \"DEU\", \"SRB\", \"DNK\", \"LTU\", \"ESP\", \"ITA\", \"LUX\", \"AUT\", \"CHE\", \"NLD\", \"PRT\", \"FRA\", \"BTN\", \"POL\", \"GRC\", \"SVN\", \"FIN\", null, \"NOR\", \"EST\", null, \"SWE\", \"CYP\", null, \"SVK\", \"BRB\", \"HRV\", \"LVA\", \"IRL\", \"SAU\", \"MAR\", \"ROU\", \"KWT\", \"MNE\", \"PYF\", \"TUR\", \"HKG\", \"CRI\", \"GUY\", null, \"BRA\", \"MUS\", \"ARG\", \"SLV\", \"NCL\", \"KHM\", \"ALB\", \"TON\", \"MEX\", \"CUB\", null, \"PAN\", \"LCA\", \"AZE\", \"FJI\", \"JOR\", \"COL\", \"GRD\", \"BGR\", null, \"AUS\", \"MKD\", \"VCT\", \"BLZ\", \"KAZ\", null, \"WSM\", \"SUR\", \"IND\", \"GNQ\", \"JPN\", null, \"ECU\", \"BHS\", \"NZL\", \"PER\", null, null, \"LBN\", null, \"MYS\", \"LKA\", \"IDN\", \"TTO\", null, \"TUN\", \"NPL\", \"COM\", \"BLR\", \"THA\", \"ZWE\", \"TLS\", null, \"BIH\", \"GEO\", \"BWA\", \"UZB\", \"BGD\", \"JAM\", \"OMN\", \"PRY\", \"PHL\", \"DZA\", \"MMR\", null, \"LBY\", \"HND\", \"PAK\", \"TGO\", \"GHA\", \"GTM\", \"NAM\", \"AGO\", \"UKR\", null, \"SEN\", \"EGY\", \"RWA\", \"SWZ\", \"GIN\", \"ZAF\", null, null, \"NIC\", \"SLB\", \"DJI\", \"KGZ\", \"KEN\", \"MWI\", \"GMB\", \"LSO\", \"ETH\", \"UGA\", \"AFG\", \"ARM\", \"IRQ\", \"GAB\", null, \"MOZ\", \"LBR\", \"SLE\", \"SDN\", \"NGA\", null, \"TJK\", \"MRT\", \"GNB\", \"SOM\", \"ZMB\", \"MLI\", \"NER\", \"YEM\", \"TKM\", \"CAF\", \"PNG\", null, \"MDG\", \"CMR\", \"VUT\", \"BEN\", \"SSD\", \"BFA\", \"COG\", \"TCD\"], \"name\": \"\", \"type\": \"choropleth\", \"z\": [null, 60.0, 67.0, 62.0, 61.0, 59.0, 61.0, 61.0, 55.0, 56.0, 54.0, 60.0, 52.0, 59.0, 59.0, 44.0, 64.0, 47.0, 48.0, 38.0, 45.0, 42.0, 45.0, 47.0, 42.0, 46.0, 42.0, 45.0, 43.0, 45.0, 63.0, 40.0, 39.0, 36.0, 50.0, null, 36.0, 39.0, 42.0, 40.0, 35.0, 39.0, 34.0, 30.0, 34.0, 29.0, 36.0, null, 26.0, 23.0, null, 23.0, 23.0, 23.0, 22.0, 24.0, 27.0, 26.0, 25.0, 20.0, 28.0, 20.0, 19.0, 17.0, 17.0, 27.0, 20.0, 16.0, 22.0, 18.0, 16.0, 17.0, 25.0, 19.0, 17.0, 16.0, 13.0, 13.0, 20.0, 12.0, null, 17.0, 13.0, 14.0, 19.0, 15.0, 14.0, 11.0, 13.0, 13.0, 11.0, 12.0, 10.0, 10.0, 9.9, 11.0, 9.4, 8.0, 8.9, 9.9, 7.3, 11.0, 5.8, 7.7, 7.8, 5.1, 6.5, 6.0, 4.7, 7.2, 6.6, 5.7, 5.1, 6.5, null, 3.6, 5.3, 4.4, 4.5, 4.3, 5.8, 3.3, 4.7, 4.7, 4.0, 3.4, 3.4, 2.8, 3.1, 3.3, 2.4, 3.2, 3.4, 2.9, 2.8, 2.8, 3.1, 2.3, null, 2.1, 2.6, 2.6, 2.5, 1.3, 1.4, 1.9, 2.0, 1.3, 1.7, null, 1.7, 1.3, 1.6, 1.1, 1.0, 1.4, 1.1, 1.3, 1.0, 1.0, 1.0, null, 0.9, 0.8, 1.0, 0.8, 0.8, 0.6, 0.7, 0.8, 0.5, 0.5, 0.4, 0.4, 0.4, 0.3, 0.3, 0.2, 0.1, 0.0, 0.0, 0.0]}],\n",
              "                        {\"coloraxis\": {\"colorbar\": {\"title\": {\"text\": \"%_poblacion_vacunada\"}}, \"colorscale\": [[0.0, \"#0d0887\"], [0.1111111111111111, \"#46039f\"], [0.2222222222222222, \"#7201a8\"], [0.3333333333333333, \"#9c179e\"], [0.4444444444444444, \"#bd3786\"], [0.5555555555555556, \"#d8576b\"], [0.6666666666666666, \"#ed7953\"], [0.7777777777777778, \"#fb9f3a\"], [0.8888888888888888, \"#fdca26\"], [1.0, \"#f0f921\"]]}, \"geo\": {\"center\": {}, \"domain\": {\"x\": [0.0, 1.0], \"y\": [0.0, 1.0]}}, \"legend\": {\"tracegroupgap\": 0}, \"margin\": {\"t\": 60}, \"template\": {\"data\": {\"bar\": [{\"error_x\": {\"color\": \"#2a3f5f\"}, \"error_y\": {\"color\": \"#2a3f5f\"}, \"marker\": {\"line\": {\"color\": \"#E5ECF6\", \"width\": 0.5}}, \"type\": \"bar\"}], \"barpolar\": [{\"marker\": {\"line\": {\"color\": \"#E5ECF6\", \"width\": 0.5}}, \"type\": \"barpolar\"}], \"carpet\": [{\"aaxis\": {\"endlinecolor\": \"#2a3f5f\", \"gridcolor\": \"white\", \"linecolor\": \"white\", \"minorgridcolor\": \"white\", \"startlinecolor\": \"#2a3f5f\"}, \"baxis\": {\"endlinecolor\": \"#2a3f5f\", \"gridcolor\": \"white\", \"linecolor\": \"white\", \"minorgridcolor\": \"white\", \"startlinecolor\": \"#2a3f5f\"}, \"type\": \"carpet\"}], \"choropleth\": [{\"colorbar\": {\"outlinewidth\": 0, \"ticks\": \"\"}, \"type\": \"choropleth\"}], \"contour\": [{\"colorbar\": {\"outlinewidth\": 0, \"ticks\": \"\"}, \"colorscale\": [[0.0, \"#0d0887\"], [0.1111111111111111, \"#46039f\"], [0.2222222222222222, \"#7201a8\"], [0.3333333333333333, \"#9c179e\"], [0.4444444444444444, \"#bd3786\"], [0.5555555555555556, \"#d8576b\"], [0.6666666666666666, \"#ed7953\"], [0.7777777777777778, \"#fb9f3a\"], [0.8888888888888888, \"#fdca26\"], [1.0, \"#f0f921\"]], \"type\": \"contour\"}], \"contourcarpet\": [{\"colorbar\": {\"outlinewidth\": 0, \"ticks\": \"\"}, \"type\": \"contourcarpet\"}], \"heatmap\": [{\"colorbar\": {\"outlinewidth\": 0, \"ticks\": \"\"}, \"colorscale\": [[0.0, \"#0d0887\"], [0.1111111111111111, \"#46039f\"], [0.2222222222222222, \"#7201a8\"], [0.3333333333333333, \"#9c179e\"], [0.4444444444444444, \"#bd3786\"], [0.5555555555555556, \"#d8576b\"], [0.6666666666666666, \"#ed7953\"], [0.7777777777777778, \"#fb9f3a\"], [0.8888888888888888, \"#fdca26\"], [1.0, \"#f0f921\"]], \"type\": \"heatmap\"}], \"heatmapgl\": [{\"colorbar\": {\"outlinewidth\": 0, \"ticks\": \"\"}, \"colorscale\": [[0.0, \"#0d0887\"], [0.1111111111111111, \"#46039f\"], [0.2222222222222222, \"#7201a8\"], [0.3333333333333333, \"#9c179e\"], [0.4444444444444444, \"#bd3786\"], [0.5555555555555556, \"#d8576b\"], [0.6666666666666666, \"#ed7953\"], [0.7777777777777778, \"#fb9f3a\"], [0.8888888888888888, \"#fdca26\"], [1.0, \"#f0f921\"]], \"type\": \"heatmapgl\"}], \"histogram\": [{\"marker\": {\"colorbar\": {\"outlinewidth\": 0, \"ticks\": \"\"}}, \"type\": \"histogram\"}], \"histogram2d\": [{\"colorbar\": {\"outlinewidth\": 0, \"ticks\": \"\"}, \"colorscale\": [[0.0, \"#0d0887\"], [0.1111111111111111, \"#46039f\"], [0.2222222222222222, \"#7201a8\"], [0.3333333333333333, \"#9c179e\"], [0.4444444444444444, \"#bd3786\"], [0.5555555555555556, \"#d8576b\"], [0.6666666666666666, \"#ed7953\"], [0.7777777777777778, \"#fb9f3a\"], [0.8888888888888888, \"#fdca26\"], [1.0, \"#f0f921\"]], \"type\": \"histogram2d\"}], \"histogram2dcontour\": [{\"colorbar\": {\"outlinewidth\": 0, \"ticks\": \"\"}, \"colorscale\": [[0.0, \"#0d0887\"], [0.1111111111111111, \"#46039f\"], [0.2222222222222222, \"#7201a8\"], [0.3333333333333333, \"#9c179e\"], [0.4444444444444444, \"#bd3786\"], [0.5555555555555556, \"#d8576b\"], [0.6666666666666666, \"#ed7953\"], [0.7777777777777778, \"#fb9f3a\"], [0.8888888888888888, \"#fdca26\"], [1.0, \"#f0f921\"]], \"type\": \"histogram2dcontour\"}], \"mesh3d\": [{\"colorbar\": {\"outlinewidth\": 0, \"ticks\": \"\"}, \"type\": \"mesh3d\"}], \"parcoords\": [{\"line\": {\"colorbar\": {\"outlinewidth\": 0, \"ticks\": \"\"}}, \"type\": \"parcoords\"}], \"pie\": [{\"automargin\": true, \"type\": \"pie\"}], \"scatter\": [{\"marker\": {\"colorbar\": {\"outlinewidth\": 0, \"ticks\": \"\"}}, \"type\": \"scatter\"}], \"scatter3d\": [{\"line\": {\"colorbar\": {\"outlinewidth\": 0, \"ticks\": \"\"}}, \"marker\": {\"colorbar\": {\"outlinewidth\": 0, \"ticks\": \"\"}}, \"type\": \"scatter3d\"}], \"scattercarpet\": [{\"marker\": {\"colorbar\": {\"outlinewidth\": 0, \"ticks\": \"\"}}, \"type\": \"scattercarpet\"}], \"scattergeo\": [{\"marker\": {\"colorbar\": {\"outlinewidth\": 0, \"ticks\": \"\"}}, \"type\": \"scattergeo\"}], \"scattergl\": [{\"marker\": {\"colorbar\": {\"outlinewidth\": 0, \"ticks\": \"\"}}, \"type\": \"scattergl\"}], \"scattermapbox\": [{\"marker\": {\"colorbar\": {\"outlinewidth\": 0, \"ticks\": \"\"}}, \"type\": \"scattermapbox\"}], \"scatterpolar\": [{\"marker\": {\"colorbar\": {\"outlinewidth\": 0, \"ticks\": \"\"}}, \"type\": \"scatterpolar\"}], \"scatterpolargl\": [{\"marker\": {\"colorbar\": {\"outlinewidth\": 0, \"ticks\": \"\"}}, \"type\": \"scatterpolargl\"}], \"scatterternary\": [{\"marker\": {\"colorbar\": {\"outlinewidth\": 0, \"ticks\": \"\"}}, \"type\": \"scatterternary\"}], \"surface\": [{\"colorbar\": {\"outlinewidth\": 0, \"ticks\": \"\"}, \"colorscale\": [[0.0, \"#0d0887\"], [0.1111111111111111, \"#46039f\"], [0.2222222222222222, \"#7201a8\"], [0.3333333333333333, \"#9c179e\"], [0.4444444444444444, \"#bd3786\"], [0.5555555555555556, \"#d8576b\"], [0.6666666666666666, \"#ed7953\"], [0.7777777777777778, \"#fb9f3a\"], [0.8888888888888888, \"#fdca26\"], [1.0, \"#f0f921\"]], \"type\": \"surface\"}], \"table\": [{\"cells\": {\"fill\": {\"color\": \"#EBF0F8\"}, \"line\": {\"color\": \"white\"}}, \"header\": {\"fill\": {\"color\": \"#C8D4E3\"}, \"line\": {\"color\": \"white\"}}, \"type\": \"table\"}]}, \"layout\": {\"annotationdefaults\": {\"arrowcolor\": \"#2a3f5f\", \"arrowhead\": 0, \"arrowwidth\": 1}, \"coloraxis\": {\"colorbar\": {\"outlinewidth\": 0, \"ticks\": \"\"}}, \"colorscale\": {\"diverging\": [[0, \"#8e0152\"], [0.1, \"#c51b7d\"], [0.2, \"#de77ae\"], [0.3, \"#f1b6da\"], [0.4, \"#fde0ef\"], [0.5, \"#f7f7f7\"], [0.6, \"#e6f5d0\"], [0.7, \"#b8e186\"], [0.8, \"#7fbc41\"], [0.9, \"#4d9221\"], [1, \"#276419\"]], \"sequential\": [[0.0, \"#0d0887\"], [0.1111111111111111, \"#46039f\"], [0.2222222222222222, \"#7201a8\"], [0.3333333333333333, \"#9c179e\"], [0.4444444444444444, \"#bd3786\"], [0.5555555555555556, \"#d8576b\"], [0.6666666666666666, \"#ed7953\"], [0.7777777777777778, \"#fb9f3a\"], [0.8888888888888888, \"#fdca26\"], [1.0, \"#f0f921\"]], \"sequentialminus\": [[0.0, \"#0d0887\"], [0.1111111111111111, \"#46039f\"], [0.2222222222222222, \"#7201a8\"], [0.3333333333333333, \"#9c179e\"], [0.4444444444444444, \"#bd3786\"], [0.5555555555555556, \"#d8576b\"], [0.6666666666666666, \"#ed7953\"], [0.7777777777777778, \"#fb9f3a\"], [0.8888888888888888, \"#fdca26\"], [1.0, \"#f0f921\"]]}, \"colorway\": [\"#636efa\", \"#EF553B\", \"#00cc96\", \"#ab63fa\", \"#FFA15A\", \"#19d3f3\", \"#FF6692\", \"#B6E880\", \"#FF97FF\", \"#FECB52\"], \"font\": {\"color\": \"#2a3f5f\"}, \"geo\": {\"bgcolor\": \"white\", \"lakecolor\": \"white\", \"landcolor\": \"#E5ECF6\", \"showlakes\": true, \"showland\": true, \"subunitcolor\": \"white\"}, \"hoverlabel\": {\"align\": \"left\"}, \"hovermode\": \"closest\", \"mapbox\": {\"style\": \"light\"}, \"paper_bgcolor\": \"white\", \"plot_bgcolor\": \"#E5ECF6\", \"polar\": {\"angularaxis\": {\"gridcolor\": \"white\", \"linecolor\": \"white\", \"ticks\": \"\"}, \"bgcolor\": \"#E5ECF6\", \"radialaxis\": {\"gridcolor\": \"white\", \"linecolor\": \"white\", \"ticks\": \"\"}}, \"scene\": {\"xaxis\": {\"backgroundcolor\": \"#E5ECF6\", \"gridcolor\": \"white\", \"gridwidth\": 2, \"linecolor\": \"white\", \"showbackground\": true, \"ticks\": \"\", \"zerolinecolor\": \"white\"}, \"yaxis\": {\"backgroundcolor\": \"#E5ECF6\", \"gridcolor\": \"white\", \"gridwidth\": 2, \"linecolor\": \"white\", \"showbackground\": true, \"ticks\": \"\", \"zerolinecolor\": \"white\"}, \"zaxis\": {\"backgroundcolor\": \"#E5ECF6\", \"gridcolor\": \"white\", \"gridwidth\": 2, \"linecolor\": \"white\", \"showbackground\": true, \"ticks\": \"\", \"zerolinecolor\": \"white\"}}, \"shapedefaults\": {\"line\": {\"color\": \"#2a3f5f\"}}, \"ternary\": {\"aaxis\": {\"gridcolor\": \"white\", \"linecolor\": \"white\", \"ticks\": \"\"}, \"baxis\": {\"gridcolor\": \"white\", \"linecolor\": \"white\", \"ticks\": \"\"}, \"bgcolor\": \"#E5ECF6\", \"caxis\": {\"gridcolor\": \"white\", \"linecolor\": \"white\", \"ticks\": \"\"}}, \"title\": {\"x\": 0.05}, \"xaxis\": {\"automargin\": true, \"gridcolor\": \"white\", \"linecolor\": \"white\", \"ticks\": \"\", \"title\": {\"standoff\": 15}, \"zerolinecolor\": \"white\", \"zerolinewidth\": 2}, \"yaxis\": {\"automargin\": true, \"gridcolor\": \"white\", \"linecolor\": \"white\", \"ticks\": \"\", \"title\": {\"standoff\": 15}, \"zerolinecolor\": \"white\", \"zerolinewidth\": 2}}}},\n",
              "                        {\"responsive\": true}\n",
              "                    ).then(function(){\n",
              "                            \n",
              "var gd = document.getElementById('6c112646-4d36-49d3-b649-b702b97f5290');\n",
              "var x = new MutationObserver(function (mutations, observer) {{\n",
              "        var display = window.getComputedStyle(gd).display;\n",
              "        if (!display || display === 'none') {{\n",
              "            console.log([gd, 'removed!']);\n",
              "            Plotly.purge(gd);\n",
              "            observer.disconnect();\n",
              "        }}\n",
              "}});\n",
              "\n",
              "// Listen for the removal of the full notebook cells\n",
              "var notebookContainer = gd.closest('#notebook-container');\n",
              "if (notebookContainer) {{\n",
              "    x.observe(notebookContainer, {childList: true});\n",
              "}}\n",
              "\n",
              "// Listen for the clearing of the current output cell\n",
              "var outputEl = gd.closest('.output');\n",
              "if (outputEl) {{\n",
              "    x.observe(outputEl, {childList: true});\n",
              "}}\n",
              "\n",
              "                        })\n",
              "                };\n",
              "                \n",
              "            </script>\n",
              "        </div>\n",
              "</body>\n",
              "</html>"
            ]
          },
          "metadata": {
            "tags": []
          }
        }
      ]
    },
    {
      "cell_type": "markdown",
      "metadata": {
        "id": "X5PqvFaTAJ2B"
      },
      "source": [
        "De acuerdo con el mapa de calor, se puede observar que la mayoría de países tienen un porcentaje de población vacunada demasiado bajo, y, por el contrario países como Estados Unidos tienen 52% de su población inmunizada, esto se debe a que ellos son los productores de la gran mayoría de vacunas avaladas por la Organización Mundial de la Salud. Igualmente, podemos ver que Colombia avanza en un ritmo de vacunación similar al del resto de la región. "
      ]
    },
    {
      "cell_type": "markdown",
      "metadata": {
        "id": "qpr8apnTA4_M"
      },
      "source": [
        "#Población vacunada vs población completamente vacunada (dos dosis)"
      ]
    },
    {
      "cell_type": "markdown",
      "metadata": {
        "id": "QtcDRAtpBGmu"
      },
      "source": [
        "Se realizan histogramas de relieve, que compara la información por países de personas que tienen al menos una vacuna, en contraste con la población que se encuentra completamente vacunada: "
      ]
    },
    {
      "cell_type": "code",
      "metadata": {
        "id": "_LbzaE-JBsY3"
      },
      "source": [
        "#Importe módulo para graficar\n",
        "import matplotlib.pyplot as plt"
      ],
      "execution_count": 25,
      "outputs": []
    },
    {
      "cell_type": "code",
      "metadata": {
        "colab": {
          "base_uri": "https://localhost:8080/",
          "height": 281
        },
        "id": "pMMjeXq6BxOP",
        "outputId": "2b85f105-065d-4aaf-d11a-ee1285730dbb"
      },
      "source": [
        "#Histograma de población completamente vacunada vs población con al menos una vacuna \n",
        "fig, ax = plt.subplots()\n",
        "ax.hist(datos_covid[\"%_segunda_dosis\"], bins = 20, alpha = 0.3, color = \"b\")\n",
        "ax.hist(datos_covid[\"%_poblacion_vacunada\"], bins = 20, alpha = 0.3, color = \"orange\")\n",
        "ax.set_title(\"Población completamente vacunada vs población con al menos una vacuna\")\n",
        "plt.show()"
      ],
      "execution_count": 26,
      "outputs": [
        {
          "output_type": "display_data",
          "data": {
            "image/png": "[encoded data removed]",
            "text/plain": [
              "<Figure size 432x288 with 1 Axes>"
            ]
          },
          "metadata": {
            "tags": [],
            "needs_background": "light"
          }
        }
      ]
    },
    {
      "cell_type": "markdown",
      "metadata": {
        "id": "85yKWkVvBihQ"
      },
      "source": [
        "De acuerdo con la información contenida en la gráfica, se puede concluir que menos de 10 países han vacunado hasta el 60% de su población con al menos 1 dosis. Y 50% con las dos dosis.   "
      ]
    },
    {
      "cell_type": "markdown",
      "metadata": {
        "id": "c4vU79-2EtSs"
      },
      "source": [
        "**Grafico 3**"
      ]
    },
    {
      "cell_type": "code",
      "metadata": {
        "id": "ys388YTLeRcF"
      },
      "source": [
        "import seaborn as sns"
      ],
      "execution_count": 27,
      "outputs": []
    },
    {
      "cell_type": "code",
      "metadata": {
        "colab": {
          "base_uri": "https://localhost:8080/",
          "height": 400
        },
        "id": "H5fKTeRxcOZV",
        "outputId": "79c11837-4e55-408f-b386-56a3b8997079"
      },
      "source": [
        "sns.relplot(x = \"Pais\", y = \"Dosisx100\",\n",
        "            data = datos_covid,\n",
        "            kind = \"scatter\")"
      ],
      "execution_count": 28,
      "outputs": [
        {
          "output_type": "execute_result",
          "data": {
            "text/plain": [
              "<seaborn.axisgrid.FacetGrid at 0x7f512b0d2a10>"
            ]
          },
          "metadata": {
            "tags": []
          },
          "execution_count": 28
        },
        {
          "output_type": "display_data",
          "data": {
            "image/png": "[encoded data removed]",
            "text/plain": [
              "<Figure size 360x360 with 1 Axes>"
            ]
          },
          "metadata": {
            "tags": [],
            "needs_background": "light"
          }
        }
      ]
    },
    {
      "cell_type": "markdown",
      "metadata": {
        "id": "flvt9CvBExB1"
      },
      "source": [
        "La grafica anteriormente presentada, no es fácilmente entendible dado que contiene los 182 países, por tal razón se crea un grupo de países de interés, descartando los demás:"
      ]
    },
    {
      "cell_type": "code",
      "metadata": {
        "id": "u_s4iFlugHu4",
        "colab": {
          "base_uri": "https://localhost:8080/",
          "height": 235
        },
        "outputId": "79113e37-7697-4c9a-e827-59bfdcae11e2"
      },
      "source": [
        "grupo_pais = ['Colombia', 'Argentina', 'Francia', 'Venezuela', 'Peru', 'Bolivia', 'Chile']\n",
        "\n",
        "datos_covid.loc[datos_covid['Pais'].isin(grupo_pais)]"
      ],
      "execution_count": 29,
      "outputs": [
        {
          "output_type": "execute_result",
          "data": {
            "text/html": [
              "<div>\n",
              "<style scoped>\n",
              "    .dataframe tbody tr th:only-of-type {\n",
              "        vertical-align: middle;\n",
              "    }\n",
              "\n",
              "    .dataframe tbody tr th {\n",
              "        vertical-align: top;\n",
              "    }\n",
              "\n",
              "    .dataframe thead th {\n",
              "        text-align: right;\n",
              "    }\n",
              "</style>\n",
              "<table border=\"1\" class=\"dataframe\">\n",
              "  <thead>\n",
              "    <tr style=\"text-align: right;\">\n",
              "      <th></th>\n",
              "      <th>Pais</th>\n",
              "      <th>Dosisx100</th>\n",
              "      <th>Total_dosis_administradas</th>\n",
              "      <th>%_poblacion_vacunada</th>\n",
              "      <th>%_segunda_dosis</th>\n",
              "      <th>Code</th>\n",
              "    </tr>\n",
              "  </thead>\n",
              "  <tbody>\n",
              "    <tr>\n",
              "      <th>6</th>\n",
              "      <td>Chile</td>\n",
              "      <td>107.0</td>\n",
              "      <td>NaN</td>\n",
              "      <td>61.0</td>\n",
              "      <td>47.0</td>\n",
              "      <td>CHL</td>\n",
              "    </tr>\n",
              "    <tr>\n",
              "      <th>60</th>\n",
              "      <td>Argentina</td>\n",
              "      <td>35.0</td>\n",
              "      <td>NaN</td>\n",
              "      <td>28.0</td>\n",
              "      <td>7.1</td>\n",
              "      <td>ARG</td>\n",
              "    </tr>\n",
              "    <tr>\n",
              "      <th>74</th>\n",
              "      <td>Colombia</td>\n",
              "      <td>24.0</td>\n",
              "      <td>NaN</td>\n",
              "      <td>17.0</td>\n",
              "      <td>7.1</td>\n",
              "      <td>COL</td>\n",
              "    </tr>\n",
              "    <tr>\n",
              "      <th>89</th>\n",
              "      <td>Bolivia</td>\n",
              "      <td>17.0</td>\n",
              "      <td>NaN</td>\n",
              "      <td>13.0</td>\n",
              "      <td>3.9</td>\n",
              "      <td>None</td>\n",
              "    </tr>\n",
              "    <tr>\n",
              "      <th>93</th>\n",
              "      <td>Peru</td>\n",
              "      <td>15.0</td>\n",
              "      <td>NaN</td>\n",
              "      <td>10.0</td>\n",
              "      <td>5.1</td>\n",
              "      <td>PER</td>\n",
              "    </tr>\n",
              "    <tr>\n",
              "      <th>139</th>\n",
              "      <td>Venezuela</td>\n",
              "      <td>2.6</td>\n",
              "      <td>NaN</td>\n",
              "      <td>2.1</td>\n",
              "      <td>0.5</td>\n",
              "      <td>None</td>\n",
              "    </tr>\n",
              "  </tbody>\n",
              "</table>\n",
              "</div>"
            ],
            "text/plain": [
              "          Pais  Dosisx100  ...  %_segunda_dosis  Code\n",
              "6        Chile      107.0  ...             47.0   CHL\n",
              "60   Argentina       35.0  ...              7.1   ARG\n",
              "74    Colombia       24.0  ...              7.1   COL\n",
              "89     Bolivia       17.0  ...              3.9  None\n",
              "93        Peru       15.0  ...              5.1   PER\n",
              "139  Venezuela        2.6  ...              0.5  None\n",
              "\n",
              "[6 rows x 6 columns]"
            ]
          },
          "metadata": {
            "tags": []
          },
          "execution_count": 29
        }
      ]
    }
  ]
}